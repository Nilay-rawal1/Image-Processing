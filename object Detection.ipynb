{
 "cells": [
  {
   "cell_type": "markdown",
   "metadata": {},
   "source": [
    "# Object Detection \n"
   ]
  },
  {
   "cell_type": "code",
   "execution_count": null,
   "metadata": {},
   "outputs": [],
   "source": [
    "import cv2\n",
    "import numpy as np\n"
   ]
  },
  {
   "cell_type": "markdown",
   "metadata": {},
   "source": [
    "# Implementation of YOLO\n"
   ]
  },
  {
   "cell_type": "code",
   "execution_count": null,
   "metadata": {},
   "outputs": [],
   "source": [
    "# learning yolo models\n",
    "print(\"Loading yolo\")\n",
    "net= cv2.dnn.readNetFromDarknet(\"yolov3.cfg\",\"yolov3.weights\")\n",
    "\n",
    "#save all the names\n",
    "classes=[]\n",
    "with open(\"coco.names\",\"r\") as f:\n",
    "    classes=[line.strip() for line in f.readlines()]\n",
    "\n",
    "#layers of network\n",
    "layer_names =net.getLayerNames()\n",
    "\n",
    "output_layers =[layer_names[i -1] for i in net.getUnconnectedOutLayers()]\n",
    "print(\"Yolo Loaded\")\n",
    "\n",
    "print(\"\\nCLASSES: \\n{}\".format(classes))\n"
   ]
  },
  {
   "cell_type": "code",
   "execution_count": null,
   "metadata": {},
   "outputs": [],
   "source": [
    "#Capture the Video from webcam\n",
    "video_capture = cv2.VideoCapture (0)\n",
    "\n",
    "while True:\n",
    "    # Capture frame-by-frame\n",
    "    re, img = video_capture.read()\n",
    "    img= cv2.resize(img, None, fx=0.4, fy=0.4)\n",
    "    height, width, channels = img.shape\n",
    "    # Using blob function of opencv to preprocess image\n",
    "    blob = cv2.dnn.blobFromImage(img, 1 / 255.0, (416, 416),swapRB=True, crop=False)\n",
    "\n",
    "    # Detecting objects\n",
    "    net.setInput (blob)\n",
    "    outs = net. forward (output_layers)\n",
    "\n",
    "    # Showing informations on the screen\n",
    "    class_ids = []\n",
    "    confidences = []\n",
    "    boxes = []\n",
    "\n",
    "    for out in outs:\n",
    "        for detection in out:\n",
    "            scores = detection[5:]\n",
    "            class_id = np.argmax(scores)\n",
    "            confidence = scores [class_id]\n",
    "\n",
    "            if confidence > 0.5:\n",
    "\n",
    "                # Object detected\n",
    "                center_x = int (detection[0] * width)\n",
    "                center_y = int(detection [1] *height)\n",
    "                w = int(detection [2] * width)\n",
    "                h = int(detection [3] *height)\n",
    "                \n",
    "                # Rectangle coordinates\n",
    "                x = int(center_x - w / 2)\n",
    "                y = int(center_y - h / 2)\n",
    "\n",
    "                boxes.append([x, y, w, h])\n",
    "                confidences.append(float (confidence))\n",
    "                class_ids.append(class_id) \n",
    "    \n",
    "    # We use NMS function in opencv to perform Non-maximum Suppression\n",
    "    # we give it score threshold and nms threshold as arguments.\n",
    "    indexes = cv2.dnn. NMSBoxes (boxes, confidences, 0.5, 0.4)\n",
    "    font = cv2.FONT_HERSHEY_PLAIN\n",
    "    colors= np.random. uniform (0, 255, size=(len(classes), 3))\n",
    "\n",
    "    for i in range(len(boxes)):\n",
    "        if i in indexes:\n",
    "            x, y, w, h = boxes[i]\n",
    "            label = str(classes [class_ids[i]])\n",
    "            color = colors [class_ids[i]]\n",
    "            cv2.rectangle(img, (x, y), (x+w, y + h), color, 2)\n",
    "            cv2.putText(img, label, (x, y + 30), font, 2, color, 3 )\n",
    "    \n",
    "    cv2.imshow(\"Image\",cv2.resize(img, (800,600)))\n",
    "    if cv2.waitKey(1) & 0xFF == ord('q'):\n",
    "        break\n",
    "    \n",
    "cv2.waitKey(0)\n",
    "video_capture.release()\n",
    "\n",
    "cv2.destroyAllWindows()"
   ]
  }
 ],
 "metadata": {
  "kernelspec": {
   "display_name": "Python 3",
   "language": "python",
   "name": "python3"
  },
  "language_info": {
   "codemirror_mode": {
    "name": "ipython",
    "version": 3
   },
   "file_extension": ".py",
   "mimetype": "text/x-python",
   "name": "python",
   "nbconvert_exporter": "python",
   "pygments_lexer": "ipython3",
   "version": "3.10.11"
  },
  "orig_nbformat": 4
 },
 "nbformat": 4,
 "nbformat_minor": 2
}
