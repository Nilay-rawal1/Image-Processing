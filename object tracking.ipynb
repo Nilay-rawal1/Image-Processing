{
 "cells": [
  {
   "cell_type": "code",
   "execution_count": null,
   "metadata": {},
   "outputs": [],
   "source": [
    "import numpy as np\n",
    "import cv2\n",
    "\n",
    "import mediapipe as mp\n",
    "import tensorflow as tf\n",
    "from tensorflow import keras\n",
    "from tensorflow.keras.models import load_model"
   ]
  },
  {
   "cell_type": "code",
   "execution_count": null,
   "metadata": {},
   "outputs": [],
   "source": [
    "# Initalizing Media\n",
    "mpHands = mp.solutions.hands\n",
    "hands = mpHands.Hands (max_num_hands=1, min_detection_confidence = 0.7)\n",
    "mpDraw = mp.solutions.drawing_utils"
   ]
  },
  {
   "cell_type": "code",
   "execution_count": null,
   "metadata": {},
   "outputs": [],
   "source": [
    "# Loading the Gesture Recognition Model\n",
    "model = load_model(\"mp_hand_gesture\")\n",
    "\n",
    "# Load class names\n",
    "f = open('gesture.names', 'r')\n",
    "classNames = f.read().split('\\n')\n",
    "f.close()\n",
    "print (classNames)"
   ]
  },
  {
   "cell_type": "code",
   "execution_count": null,
   "metadata": {},
   "outputs": [],
   "source": [
    "#Initialize the webcam for Hand Gestures\n",
    "cap = cv2.VideoCapture (0)\n",
    "\n",
    "while True:\n",
    "    #Read each frame from\n",
    "    _,frame= cap.read()\n",
    "    x, y, c = frame.shape\n",
    "\n",
    "    # Flip the frame vertically\n",
    "    frame = cv2.flip(frame, 1)\n",
    "    framergb = cv2.cvtColor (frame, cv2.COLOR_BGR2RGB)\n",
    "\n",
    "    # Get hand Landmark prediction\n",
    "    result =  hands.process(framergb)\n",
    "\n",
    "    className = ''\n",
    "\n",
    "    #post process the result\n",
    "    if result.multi_hand_landmarks:\n",
    "        landmarks = []\n",
    "        for handslms in result.multi_hand_landmarks:\n",
    "            for lm in handslms.landamrk:\n",
    "                #print(id,LM)\n",
    "                lmx = int(lm.x * x)\n",
    "                lmy = int(lm.y * y)\n",
    "            \n",
    "                landmarks.append([lmx,lmy])\n",
    "            # Drawing Landmarks on frames\n",
    "            mpDraw.draw_landmarks(frame, handslms, mpHands. HAND_CONNECTIONS)\n",
    "\n",
    "            # Predict gesture\n",
    "            prediction =  model.predict([landmarks])\n",
    "            classID= np.argmax (prediction)\n",
    "            className = classNames [classID]\n",
    "    # show the prediction on the frame\n",
    "    cv2.putText(frame, className, (10, 50), cv2.FONT_HERSHEY_SIMPLEX, 1, (0,0,255), 2, cv2.LINE_AA)\n",
    "\n",
    "    #Show the final output \n",
    "    cv2.imshow(\"Output\", frame)\n",
    "    # Press 'q' to exit the window \n",
    "    if cv2.waitKey(1) == ord('q'):\n",
    "        break\n",
    "\n",
    "#release the webcam and destroy all active windows\n",
    "cap.release()\n",
    "cv2.destroyAllWindows()            "
   ]
  }
 ],
 "metadata": {
  "language_info": {
   "name": "python"
  },
  "orig_nbformat": 4
 },
 "nbformat": 4,
 "nbformat_minor": 2
}
